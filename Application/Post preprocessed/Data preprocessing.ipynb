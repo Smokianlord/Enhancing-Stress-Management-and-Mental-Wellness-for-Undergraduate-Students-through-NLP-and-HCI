{
  "nbformat": 4,
  "nbformat_minor": 0,
  "metadata": {
    "colab": {
      "provenance": []
    },
    "kernelspec": {
      "name": "python3",
      "display_name": "Python 3"
    },
    "language_info": {
      "name": "python"
    }
  },
  "cells": [
    {
      "cell_type": "code",
      "execution_count": null,
      "metadata": {
        "id": "4pOMVQNcmhCq"
      },
      "outputs": [],
      "source": [
        "import numpy as np\n",
        "import matplotlib.pyplot as plt\n",
        "import seaborn as sns\n",
        "import pandas as pd"
      ]
    },
    {
      "cell_type": "code",
      "source": [
        "file_path = \"/content/Response.csv\"\n",
        "df = pd.read_csv(file_path)"
      ],
      "metadata": {
        "id": "_--lUNvkmp89"
      },
      "execution_count": null,
      "outputs": []
    },
    {
      "cell_type": "code",
      "source": [
        "df = pd.read_csv(\"/content/Response.csv\")"
      ],
      "metadata": {
        "id": "9LjloKl5r_7J"
      },
      "execution_count": null,
      "outputs": []
    },
    {
      "cell_type": "code",
      "source": [
        "# Apply one-hot encoding to the age column\n",
        "df = pd.get_dummies(df, columns=['Age'])\n",
        "\n",
        "# Display the preprocessed dataset\n",
        "print(df.head())\n"
      ],
      "metadata": {
        "colab": {
          "base_uri": "https://localhost:8080/"
        },
        "id": "3VUa13YnnBl5",
        "outputId": "71d779f6-2bcb-4f9d-e7cf-843cd8f5a16b"
      },
      "execution_count": null,
      "outputs": [
        {
          "output_type": "stream",
          "name": "stdout",
          "text": [
            "   Gender diagnosed with depression  symptoms of depression frequency  \\\n",
            "0  Female                       Yes                                 3   \n",
            "1  Female                     Maybe                                 3   \n",
            "2    Male                       Yes                                 5   \n",
            "3    Male                       Yes                                 2   \n",
            "4    Male                       Yes                                 5   \n",
            "\n",
            "  professional help or counseling for depression  \\\n",
            "0                                            Yes   \n",
            "1                                            Yes   \n",
            "2                                             No   \n",
            "3                                            Yes   \n",
            "4                                            Yes   \n",
            "\n",
            "  feel stressed due to academic workload engage in stress-relief activities  \\\n",
            "0                             Frequently                                 No   \n",
            "1                             Constantly                                 No   \n",
            "2                              Sometimes                                 No   \n",
            "3                             Frequently                                Yes   \n",
            "4                             Constantly                                 No   \n",
            "\n",
            "   effectiveness of stress-management strategies  \\\n",
            "0                                              2   \n",
            "1                                              3   \n",
            "2                                              4   \n",
            "3                                              2   \n",
            "4                                              3   \n",
            "\n",
            "  feel pressure to excel academically  coping with academic pressure  \\\n",
            "0                                  No                              2   \n",
            "1                                 Yes                              2   \n",
            "2                                  No                              4   \n",
            "3                                 Yes                              3   \n",
            "4                                 Yes                              5   \n",
            "\n",
            "  academic counseling or support  ... Mental health awareness campaigns  \\\n",
            "0                             No  ...               Extremely Important   \n",
            "1                            Yes  ...                         Important   \n",
            "2                             No  ...                         Important   \n",
            "3                             No  ...                           Neutral   \n",
            "4                             No  ...                         Important   \n",
            "\n",
            "  effectiveness of stress-relief techniques or activities  \\\n",
            "0                   Friendship and good relationship        \n",
            "1                                 Listening to music        \n",
            "2                                               Yoga        \n",
            "3         Meditation/Mindfulness, Listening to music        \n",
            "4         Meditation/Mindfulness, Listening to music        \n",
            "\n",
            "   effectiveness of talking with someone  \\\n",
            "0                                      2   \n",
            "1                                      3   \n",
            "2                                      3   \n",
            "3                                      2   \n",
            "4                                      4   \n",
            "\n",
            "  contibution of lack of sleep on stress level  \\\n",
            "0                                            3   \n",
            "1                                            2   \n",
            "2                                            2   \n",
            "3                                            2   \n",
            "4                                            5   \n",
            "\n",
            "  engaging in activities or hobbies  \\\n",
            "0              Several times a week   \n",
            "1                      Occasionally   \n",
            "2                      Occasionally   \n",
            "3                      Occasionally   \n",
            "4                            Rarely   \n",
            "\n",
            "  primary method of coping with academic or personal stress Age_18-21  \\\n",
            "0          Engaging in hobbies or leisure activities            False   \n",
            "1                Meditation or mindfulness practices            False   \n",
            "2          Engaging in hobbies or leisure activities            False   \n",
            "3          Engaging in hobbies or leisure activities            False   \n",
            "4                       Talking to friends or family            False   \n",
            "\n",
            "  Age_22-25 Age_26-30  Age_Under 18  \n",
            "0      True     False         False  \n",
            "1      True     False         False  \n",
            "2      True     False         False  \n",
            "3      True     False         False  \n",
            "4     False      True         False  \n",
            "\n",
            "[5 rows x 33 columns]\n"
          ]
        }
      ]
    },
    {
      "cell_type": "code",
      "source": [
        "df[['Age_18-21','Age_22-25', 'Age_26-30', 'Age_Under 18']] = df[['Age_18-21','Age_22-25', 'Age_26-30', 'Age_Under 18']].astype(int)\n",
        "print(df.head())\n"
      ],
      "metadata": {
        "colab": {
          "base_uri": "https://localhost:8080/"
        },
        "id": "gpKALn-enVJ1",
        "outputId": "520b9196-342e-4994-d5f0-55d6d8d91435"
      },
      "execution_count": null,
      "outputs": [
        {
          "output_type": "stream",
          "name": "stdout",
          "text": [
            "   Gender diagnosed with depression  symptoms of depression frequency  \\\n",
            "0  Female                       Yes                                 3   \n",
            "1  Female                     Maybe                                 3   \n",
            "2    Male                       Yes                                 5   \n",
            "3    Male                       Yes                                 2   \n",
            "4    Male                       Yes                                 5   \n",
            "\n",
            "  professional help or counseling for depression  \\\n",
            "0                                            Yes   \n",
            "1                                            Yes   \n",
            "2                                             No   \n",
            "3                                            Yes   \n",
            "4                                            Yes   \n",
            "\n",
            "  feel stressed due to academic workload engage in stress-relief activities  \\\n",
            "0                             Frequently                                 No   \n",
            "1                             Constantly                                 No   \n",
            "2                              Sometimes                                 No   \n",
            "3                             Frequently                                Yes   \n",
            "4                             Constantly                                 No   \n",
            "\n",
            "   effectiveness of stress-management strategies  \\\n",
            "0                                              2   \n",
            "1                                              3   \n",
            "2                                              4   \n",
            "3                                              2   \n",
            "4                                              3   \n",
            "\n",
            "  feel pressure to excel academically  coping with academic pressure  \\\n",
            "0                                  No                              2   \n",
            "1                                 Yes                              2   \n",
            "2                                  No                              4   \n",
            "3                                 Yes                              3   \n",
            "4                                 Yes                              5   \n",
            "\n",
            "  academic counseling or support  ... Mental health awareness campaigns  \\\n",
            "0                             No  ...               Extremely Important   \n",
            "1                            Yes  ...                         Important   \n",
            "2                             No  ...                         Important   \n",
            "3                             No  ...                           Neutral   \n",
            "4                             No  ...                         Important   \n",
            "\n",
            "  effectiveness of stress-relief techniques or activities  \\\n",
            "0                   Friendship and good relationship        \n",
            "1                                 Listening to music        \n",
            "2                                               Yoga        \n",
            "3         Meditation/Mindfulness, Listening to music        \n",
            "4         Meditation/Mindfulness, Listening to music        \n",
            "\n",
            "   effectiveness of talking with someone  \\\n",
            "0                                      2   \n",
            "1                                      3   \n",
            "2                                      3   \n",
            "3                                      2   \n",
            "4                                      4   \n",
            "\n",
            "  contibution of lack of sleep on stress level  \\\n",
            "0                                            3   \n",
            "1                                            2   \n",
            "2                                            2   \n",
            "3                                            2   \n",
            "4                                            5   \n",
            "\n",
            "  engaging in activities or hobbies  \\\n",
            "0              Several times a week   \n",
            "1                      Occasionally   \n",
            "2                      Occasionally   \n",
            "3                      Occasionally   \n",
            "4                            Rarely   \n",
            "\n",
            "  primary method of coping with academic or personal stress Age_18-21  \\\n",
            "0          Engaging in hobbies or leisure activities                0   \n",
            "1                Meditation or mindfulness practices                0   \n",
            "2          Engaging in hobbies or leisure activities                0   \n",
            "3          Engaging in hobbies or leisure activities                0   \n",
            "4                       Talking to friends or family                0   \n",
            "\n",
            "  Age_22-25 Age_26-30  Age_Under 18  \n",
            "0         1         0             0  \n",
            "1         1         0             0  \n",
            "2         1         0             0  \n",
            "3         1         0             0  \n",
            "4         0         1             0  \n",
            "\n",
            "[5 rows x 33 columns]\n"
          ]
        }
      ]
    },
    {
      "cell_type": "code",
      "source": [
        "# Apply one-hot encoding to the gender column\n",
        "df = pd.get_dummies(df, columns=['Gender'])\n",
        "\n",
        "# Display the preprocessed dataset\n",
        "print(df.head())\n"
      ],
      "metadata": {
        "colab": {
          "base_uri": "https://localhost:8080/"
        },
        "id": "3w4ThGGPsMz-",
        "outputId": "f78cb383-d5b5-466e-c312-fcbbefb91d78"
      },
      "execution_count": null,
      "outputs": [
        {
          "output_type": "stream",
          "name": "stdout",
          "text": [
            "  diagnosed with depression  symptoms of depression frequency  \\\n",
            "0                       Yes                                 3   \n",
            "1                     Maybe                                 3   \n",
            "2                       Yes                                 5   \n",
            "3                       Yes                                 2   \n",
            "4                       Yes                                 5   \n",
            "\n",
            "  professional help or counseling for depression  \\\n",
            "0                                            Yes   \n",
            "1                                            Yes   \n",
            "2                                             No   \n",
            "3                                            Yes   \n",
            "4                                            Yes   \n",
            "\n",
            "  feel stressed due to academic workload engage in stress-relief activities  \\\n",
            "0                             Frequently                                 No   \n",
            "1                             Constantly                                 No   \n",
            "2                              Sometimes                                 No   \n",
            "3                             Frequently                                Yes   \n",
            "4                             Constantly                                 No   \n",
            "\n",
            "   effectiveness of stress-management strategies  \\\n",
            "0                                              2   \n",
            "1                                              3   \n",
            "2                                              4   \n",
            "3                                              2   \n",
            "4                                              3   \n",
            "\n",
            "  feel pressure to excel academically  coping with academic pressure  \\\n",
            "0                                  No                              2   \n",
            "1                                 Yes                              2   \n",
            "2                                  No                              4   \n",
            "3                                 Yes                              3   \n",
            "4                                 Yes                              5   \n",
            "\n",
            "  academic counseling or support engaging in self-harming behaviors  ...  \\\n",
            "0                             No                                Yes  ...   \n",
            "1                            Yes                                 No  ...   \n",
            "2                             No                                Yes  ...   \n",
            "3                             No                                 No  ...   \n",
            "4                             No                                Yes  ...   \n",
            "\n",
            "  contibution of lack of sleep on stress level  \\\n",
            "0                                            3   \n",
            "1                                            2   \n",
            "2                                            2   \n",
            "3                                            2   \n",
            "4                                            5   \n",
            "\n",
            "   engaging in activities or hobbies  \\\n",
            "0               Several times a week   \n",
            "1                       Occasionally   \n",
            "2                       Occasionally   \n",
            "3                       Occasionally   \n",
            "4                             Rarely   \n",
            "\n",
            "  primary method of coping with academic or personal stress Age_18-21  \\\n",
            "0          Engaging in hobbies or leisure activities                0   \n",
            "1                Meditation or mindfulness practices                0   \n",
            "2          Engaging in hobbies or leisure activities                0   \n",
            "3          Engaging in hobbies or leisure activities                0   \n",
            "4                       Talking to friends or family                0   \n",
            "\n",
            "  Age_22-25 Age_26-30 Age_Under 18 Gender_Female  Gender_Male  \\\n",
            "0         1         0            0          True        False   \n",
            "1         1         0            0          True        False   \n",
            "2         1         0            0         False         True   \n",
            "3         1         0            0         False         True   \n",
            "4         0         1            0         False         True   \n",
            "\n",
            "  Gender_Prefer not to say  \n",
            "0                    False  \n",
            "1                    False  \n",
            "2                    False  \n",
            "3                    False  \n",
            "4                    False  \n",
            "\n",
            "[5 rows x 35 columns]\n"
          ]
        }
      ]
    },
    {
      "cell_type": "code",
      "source": [
        "df[['Gender_Female', 'Gender_Male', 'Gender_Prefer not to say']] = df[['Gender_Female', 'Gender_Male', 'Gender_Prefer not to say']].astype(int)\n",
        "print(df.head())\n"
      ],
      "metadata": {
        "colab": {
          "base_uri": "https://localhost:8080/"
        },
        "id": "4xx2Q6nYoWFT",
        "outputId": "c9492006-4a26-4fad-ec12-91396021d972"
      },
      "execution_count": null,
      "outputs": [
        {
          "output_type": "stream",
          "name": "stdout",
          "text": [
            "  diagnosed with depression  symptoms of depression frequency  \\\n",
            "0                       Yes                                 3   \n",
            "1                     Maybe                                 3   \n",
            "2                       Yes                                 5   \n",
            "3                       Yes                                 2   \n",
            "4                       Yes                                 5   \n",
            "\n",
            "  professional help or counseling for depression  \\\n",
            "0                                            Yes   \n",
            "1                                            Yes   \n",
            "2                                             No   \n",
            "3                                            Yes   \n",
            "4                                            Yes   \n",
            "\n",
            "  feel stressed due to academic workload engage in stress-relief activities  \\\n",
            "0                             Frequently                                 No   \n",
            "1                             Constantly                                 No   \n",
            "2                              Sometimes                                 No   \n",
            "3                             Frequently                                Yes   \n",
            "4                             Constantly                                 No   \n",
            "\n",
            "   effectiveness of stress-management strategies  \\\n",
            "0                                              2   \n",
            "1                                              3   \n",
            "2                                              4   \n",
            "3                                              2   \n",
            "4                                              3   \n",
            "\n",
            "  feel pressure to excel academically  coping with academic pressure  \\\n",
            "0                                  No                              2   \n",
            "1                                 Yes                              2   \n",
            "2                                  No                              4   \n",
            "3                                 Yes                              3   \n",
            "4                                 Yes                              5   \n",
            "\n",
            "  academic counseling or support engaging in self-harming behaviors  ...  \\\n",
            "0                             No                                Yes  ...   \n",
            "1                            Yes                                 No  ...   \n",
            "2                             No                                Yes  ...   \n",
            "3                             No                                 No  ...   \n",
            "4                             No                                Yes  ...   \n",
            "\n",
            "  contibution of lack of sleep on stress level  \\\n",
            "0                                            3   \n",
            "1                                            2   \n",
            "2                                            2   \n",
            "3                                            2   \n",
            "4                                            5   \n",
            "\n",
            "   engaging in activities or hobbies  \\\n",
            "0               Several times a week   \n",
            "1                       Occasionally   \n",
            "2                       Occasionally   \n",
            "3                       Occasionally   \n",
            "4                             Rarely   \n",
            "\n",
            "  primary method of coping with academic or personal stress Age_18-21  \\\n",
            "0          Engaging in hobbies or leisure activities                0   \n",
            "1                Meditation or mindfulness practices                0   \n",
            "2          Engaging in hobbies or leisure activities                0   \n",
            "3          Engaging in hobbies or leisure activities                0   \n",
            "4                       Talking to friends or family                0   \n",
            "\n",
            "  Age_22-25 Age_26-30 Age_Under 18 Gender_Female  Gender_Male  \\\n",
            "0         1         0            0             1            0   \n",
            "1         1         0            0             1            0   \n",
            "2         1         0            0             0            1   \n",
            "3         1         0            0             0            1   \n",
            "4         0         1            0             0            1   \n",
            "\n",
            "  Gender_Prefer not to say  \n",
            "0                        0  \n",
            "1                        0  \n",
            "2                        0  \n",
            "3                        0  \n",
            "4                        0  \n",
            "\n",
            "[5 rows x 35 columns]\n"
          ]
        }
      ]
    },
    {
      "cell_type": "code",
      "source": [
        "# Define a dictionary to map categories to numerical values\n",
        "diagnosis_mapping = {'No': 0, 'Maybe': 1, 'Yes': 2}\n",
        "\n",
        "# Apply mapping to the 'diagnosed with depression' column\n",
        "df['diagnosed with depression'] = df['diagnosed with depression'].map(diagnosis_mapping)\n",
        "\n",
        "# Display the preprocessed dataset\n",
        "print(df.head())\n",
        "\n"
      ],
      "metadata": {
        "id": "6I8ghmvG0Ypc",
        "colab": {
          "base_uri": "https://localhost:8080/"
        },
        "outputId": "973b0d17-7ebc-4fac-da2b-29afa11c6c3c"
      },
      "execution_count": null,
      "outputs": [
        {
          "output_type": "stream",
          "name": "stdout",
          "text": [
            "   diagnosed with depression  symptoms of depression frequency  \\\n",
            "0                          2                                 3   \n",
            "1                          1                                 3   \n",
            "2                          2                                 5   \n",
            "3                          2                                 2   \n",
            "4                          2                                 5   \n",
            "\n",
            "  professional help or counseling for depression  \\\n",
            "0                                            Yes   \n",
            "1                                            Yes   \n",
            "2                                             No   \n",
            "3                                            Yes   \n",
            "4                                            Yes   \n",
            "\n",
            "  feel stressed due to academic workload engage in stress-relief activities  \\\n",
            "0                             Frequently                                 No   \n",
            "1                             Constantly                                 No   \n",
            "2                              Sometimes                                 No   \n",
            "3                             Frequently                                Yes   \n",
            "4                             Constantly                                 No   \n",
            "\n",
            "   effectiveness of stress-management strategies  \\\n",
            "0                                              2   \n",
            "1                                              3   \n",
            "2                                              4   \n",
            "3                                              2   \n",
            "4                                              3   \n",
            "\n",
            "  feel pressure to excel academically  coping with academic pressure  \\\n",
            "0                                  No                              2   \n",
            "1                                 Yes                              2   \n",
            "2                                  No                              4   \n",
            "3                                 Yes                              3   \n",
            "4                                 Yes                              5   \n",
            "\n",
            "  academic counseling or support engaging in self-harming behaviors  ...  \\\n",
            "0                             No                                Yes  ...   \n",
            "1                            Yes                                 No  ...   \n",
            "2                             No                                Yes  ...   \n",
            "3                             No                                 No  ...   \n",
            "4                             No                                Yes  ...   \n",
            "\n",
            "  contibution of lack of sleep on stress level  \\\n",
            "0                                            3   \n",
            "1                                            2   \n",
            "2                                            2   \n",
            "3                                            2   \n",
            "4                                            5   \n",
            "\n",
            "   engaging in activities or hobbies  \\\n",
            "0               Several times a week   \n",
            "1                       Occasionally   \n",
            "2                       Occasionally   \n",
            "3                       Occasionally   \n",
            "4                             Rarely   \n",
            "\n",
            "  primary method of coping with academic or personal stress Age_18-21  \\\n",
            "0          Engaging in hobbies or leisure activities                0   \n",
            "1                Meditation or mindfulness practices                0   \n",
            "2          Engaging in hobbies or leisure activities                0   \n",
            "3          Engaging in hobbies or leisure activities                0   \n",
            "4                       Talking to friends or family                0   \n",
            "\n",
            "  Age_22-25 Age_26-30 Age_Under 18 Gender_Female  Gender_Male  \\\n",
            "0         1         0            0             1            0   \n",
            "1         1         0            0             1            0   \n",
            "2         1         0            0             0            1   \n",
            "3         1         0            0             0            1   \n",
            "4         0         1            0             0            1   \n",
            "\n",
            "  Gender_Prefer not to say  \n",
            "0                        0  \n",
            "1                        0  \n",
            "2                        0  \n",
            "3                        0  \n",
            "4                        0  \n",
            "\n",
            "[5 rows x 35 columns]\n"
          ]
        }
      ]
    },
    {
      "cell_type": "code",
      "source": [
        "# Remove leading/trailing whitespace and convert to lowercase\n",
        "df['technology (e.g., NLP and HCI) can positively impact mental wellness'] = df['technology (e.g., NLP and HCI) can positively impact mental wellness'].str.strip().str.lower()\n",
        "\n",
        "# Replace values and capitalize 'Maybe'\n",
        "df['technology (e.g., NLP and HCI) can positively impact mental wellness'].replace({'maybe  ': 'Maybe', 'yes': 'Yes', 'no': 'No'}, inplace=True)\n",
        "\n",
        "# Capitalize 'Maybe'\n",
        "df['technology (e.g., NLP and HCI) can positively impact mental wellness'] = df['technology (e.g., NLP and HCI) can positively impact mental wellness'].apply(lambda x: x.title())\n",
        "\n",
        "# Check unique values after replacement\n",
        "print(\"Unique values after replacement:\", df['technology (e.g., NLP and HCI) can positively impact mental wellness'].unique())\n"
      ],
      "metadata": {
        "colab": {
          "base_uri": "https://localhost:8080/"
        },
        "id": "vhuQZWFqzlXh",
        "outputId": "564699e5-a2fc-4887-c5ca-13ffe42fd9a0"
      },
      "execution_count": null,
      "outputs": [
        {
          "output_type": "stream",
          "name": "stdout",
          "text": [
            "Unique values after replacement: ['Maybe' 'Yes' 'No']\n"
          ]
        }
      ]
    },
    {
      "cell_type": "code",
      "source": [
        "# Define a dictionary to map categories to numerical values\n",
        "technology_mapping = {'No': 0, 'Maybe': 1, 'Yes': 2}\n",
        "\n",
        "# Apply mapping to the 'technology (e.g., NLP and HCI) can positively impact mental wellness' column\n",
        "df['technology (e.g., NLP and HCI) can positively impact mental wellness'] = df['technology (e.g., NLP and HCI) can positively impact mental wellness'].map(diagnosis_mapping)\n",
        "\n"
      ],
      "metadata": {
        "id": "O8bSg-FA1QUo"
      },
      "execution_count": null,
      "outputs": []
    },
    {
      "cell_type": "code",
      "source": [
        "print(df['technology (e.g., NLP and HCI) can positively impact mental wellness'].unique())\n"
      ],
      "metadata": {
        "colab": {
          "base_uri": "https://localhost:8080/"
        },
        "id": "7cQ1nkBZ16ty",
        "outputId": "b8d67f78-abef-43f5-fef5-a2b22d7b9464"
      },
      "execution_count": null,
      "outputs": [
        {
          "output_type": "stream",
          "name": "stdout",
          "text": [
            "[1 2 0]\n"
          ]
        }
      ]
    },
    {
      "cell_type": "code",
      "source": [
        "# Define a dictionary to map categories to numerical values\n",
        "mapping = {'No': 0, 'Maybe': 1, 'Yes': 2}\n",
        "\n",
        "# Apply mapping to the 'diagnosed with depression' column\n",
        "df['open to use technology based solutions to manage mental health'] = df['open to use technology based solutions to manage mental health'].map(mapping)\n",
        "\n",
        "\n",
        "\n",
        "print(df['open to use technology based solutions to manage mental health'].unique())\n"
      ],
      "metadata": {
        "colab": {
          "base_uri": "https://localhost:8080/"
        },
        "id": "blNPiTC-2U9B",
        "outputId": "8dad65c5-011c-4ce5-9474-db3dd5720fb2"
      },
      "execution_count": null,
      "outputs": [
        {
          "output_type": "stream",
          "name": "stdout",
          "text": [
            "[1 0 2]\n"
          ]
        }
      ]
    },
    {
      "cell_type": "code",
      "source": [
        "# Replace \"Maybe \" with \"Maybe\" in the column\n",
        "df['interested in participating in workshops or programs'] = df['interested in participating in workshops or programs'].replace('Maybe ', 'Maybe')\n",
        "\n",
        "\n"
      ],
      "metadata": {
        "id": "UBxZSUIQE7mk"
      },
      "execution_count": null,
      "outputs": []
    },
    {
      "cell_type": "code",
      "source": [
        "# Define a dictionary to map categories to numerical values\n",
        "mapping = {'No': 0, 'Maybe': 1, 'Yes': 2}\n",
        "\n",
        "# Apply mapping to the 'diagnosed with depression' column\n",
        "df['interested in participating in workshops or programs'] = df['interested in participating in workshops or programs'].map(mapping)\n",
        "print(df['interested in participating in workshops or programs'].unique())"
      ],
      "metadata": {
        "colab": {
          "base_uri": "https://localhost:8080/"
        },
        "id": "szWs5qBZGRfK",
        "outputId": "da4fee65-93db-411d-d881-74f005616c70"
      },
      "execution_count": null,
      "outputs": [
        {
          "output_type": "stream",
          "name": "stdout",
          "text": [
            "[1 2 0]\n"
          ]
        }
      ]
    },
    {
      "cell_type": "code",
      "source": [
        "print(df['Preference to access mental health resources and information'].unique())"
      ],
      "metadata": {
        "colab": {
          "base_uri": "https://localhost:8080/"
        },
        "id": "K6ROr5zZGfa2",
        "outputId": "10bf48d7-433d-4ebc-e93a-c32b2839921f"
      },
      "execution_count": null,
      "outputs": [
        {
          "output_type": "stream",
          "name": "stdout",
          "text": [
            "['Mobile apps or online platforms' 'Both'\n",
            " 'In-person workshops and counseling'\n",
            " 'Haven’t used any specific resources.' \"Don't know\" 'By myself'\n",
            " 'In-person workshops' 'Both ' 'Mobile apps or online platforms ']\n"
          ]
        }
      ]
    },
    {
      "cell_type": "code",
      "source": [
        "# Define a dictionary to map categories to numerical values\n",
        "mapping = {'No': 0, 'Sometimes': 1, 'Yes': 2}\n",
        "\n",
        "# Apply mapping to the 'diagnosed with depression' column\n",
        "df['comfort in discussing mental health with friends or family'] = df['comfort in discussing mental health with friends or family'].map(mapping)\n",
        "\n",
        "\n",
        "print(df['comfort in discussing mental health with friends or family'].unique())\n"
      ],
      "metadata": {
        "colab": {
          "base_uri": "https://localhost:8080/"
        },
        "id": "zk1z0Iv_DeE4",
        "outputId": "0187bb66-ce32-47a8-b081-c4dfb20dde6a"
      },
      "execution_count": null,
      "outputs": [
        {
          "output_type": "stream",
          "name": "stdout",
          "text": [
            "[0 2 1]\n"
          ]
        }
      ]
    },
    {
      "cell_type": "code",
      "source": [
        "# Convert column values to lowercase and remove leading/trailing whitespaces\n",
        "df['professional help or counseling for depression'] = df['professional help or counseling for depression'].str.strip().str.lower()\n",
        "\n",
        "# Map 'yes' to 'Yes' and 'no' to 'No ' (with a trailing whitespace)\n",
        "df['professional help or counseling for depression'] = df['professional help or counseling for depression'].map({'no': 'No', 'yes': 'Yes'})"
      ],
      "metadata": {
        "id": "jnRsf4IBRnIt"
      },
      "execution_count": null,
      "outputs": []
    },
    {
      "cell_type": "code",
      "source": [
        "# # Display the preprocessed dataset\n",
        "# print(df.head())\n",
        "\n",
        "# Check unique values in the 'professional help or counseling for depression' column\n",
        "print(df['professional help or counseling for depression'].unique())\n",
        "\n",
        "# Map 'yes' to 1, 'no' to 0, and handle NaN values\n",
        "df['professional help or counseling for depression'] = df['professional help or counseling for depression'].map({'No': 0, 'Yes': 1})\n",
        "\n",
        "# # Display the preprocessed dataset\n",
        "print(df.head())"
      ],
      "metadata": {
        "colab": {
          "base_uri": "https://localhost:8080/"
        },
        "id": "6BLt_-eu4dmo",
        "outputId": "b0803b5b-f3d0-4d90-e493-573bf98cae5b"
      },
      "execution_count": null,
      "outputs": [
        {
          "output_type": "stream",
          "name": "stdout",
          "text": [
            "['Yes' 'No']\n",
            "   diagnosed with depression  symptoms of depression frequency  \\\n",
            "0                          2                                 3   \n",
            "1                          1                                 3   \n",
            "2                          2                                 5   \n",
            "3                          2                                 2   \n",
            "4                          2                                 5   \n",
            "\n",
            "   professional help or counseling for depression  \\\n",
            "0                                               1   \n",
            "1                                               1   \n",
            "2                                               0   \n",
            "3                                               1   \n",
            "4                                               1   \n",
            "\n",
            "  feel stressed due to academic workload engage in stress-relief activities  \\\n",
            "0                             Frequently                                 No   \n",
            "1                             Constantly                                 No   \n",
            "2                              Sometimes                                 No   \n",
            "3                             Frequently                                Yes   \n",
            "4                             Constantly                                 No   \n",
            "\n",
            "   effectiveness of stress-management strategies  \\\n",
            "0                                              2   \n",
            "1                                              3   \n",
            "2                                              4   \n",
            "3                                              2   \n",
            "4                                              3   \n",
            "\n",
            "  feel pressure to excel academically  coping with academic pressure  \\\n",
            "0                                  No                              2   \n",
            "1                                 Yes                              2   \n",
            "2                                  No                              4   \n",
            "3                                 Yes                              3   \n",
            "4                                 Yes                              5   \n",
            "\n",
            "  academic counseling or support engaging in self-harming behaviors  ...  \\\n",
            "0                             No                                Yes  ...   \n",
            "1                            Yes                                 No  ...   \n",
            "2                             No                                Yes  ...   \n",
            "3                             No                                 No  ...   \n",
            "4                             No                                Yes  ...   \n",
            "\n",
            "  contibution of lack of sleep on stress level  \\\n",
            "0                                            3   \n",
            "1                                            2   \n",
            "2                                            2   \n",
            "3                                            2   \n",
            "4                                            5   \n",
            "\n",
            "   engaging in activities or hobbies  \\\n",
            "0               Several times a week   \n",
            "1                       Occasionally   \n",
            "2                       Occasionally   \n",
            "3                       Occasionally   \n",
            "4                             Rarely   \n",
            "\n",
            "   primary method of coping with academic or personal stress  Age_18-21  \\\n",
            "0          Engaging in hobbies or leisure activities                  0   \n",
            "1                Meditation or mindfulness practices                  0   \n",
            "2          Engaging in hobbies or leisure activities                  0   \n",
            "3          Engaging in hobbies or leisure activities                  0   \n",
            "4                       Talking to friends or family                  0   \n",
            "\n",
            "   Age_22-25 Age_26-30  Age_Under 18 Gender_Female  Gender_Male  \\\n",
            "0          1         0             0             1            0   \n",
            "1          1         0             0             1            0   \n",
            "2          1         0             0             0            1   \n",
            "3          1         0             0             0            1   \n",
            "4          0         1             0             0            1   \n",
            "\n",
            "  Gender_Prefer not to say  \n",
            "0                        0  \n",
            "1                        0  \n",
            "2                        0  \n",
            "3                        0  \n",
            "4                        0  \n",
            "\n",
            "[5 rows x 35 columns]\n"
          ]
        }
      ]
    },
    {
      "cell_type": "code",
      "source": [
        "df['facing discrimination related to your mental health issues'] = df['facing discrimination related to your mental health issues'].map({'No': 0, 'Yes': 1})\n",
        "\n",
        "print(df['facing discrimination related to your mental health issues'].unique())\n"
      ],
      "metadata": {
        "colab": {
          "base_uri": "https://localhost:8080/"
        },
        "id": "3y6B4TjqEjUJ",
        "outputId": "7aba5fe2-fe04-4cdf-8269-f8dd34ec6fb3"
      },
      "execution_count": null,
      "outputs": [
        {
          "output_type": "stream",
          "name": "stdout",
          "text": [
            "[1 0]\n"
          ]
        }
      ]
    },
    {
      "cell_type": "code",
      "source": [
        "df['engage in stress-relief activities'] = df['engage in stress-relief activities'].replace('yes', 'Yes')\n",
        "\n",
        "# Map 'yes' to 1 and 'no' to 0 in the 'engage in stress-relief activities' column\n",
        "df['engage in stress-relief activities'] = df['engage in stress-relief activities'].map({'No': 0, 'Yes': 1})\n",
        "\n",
        "# Display the preprocessed dataset\n",
        "print(df.head())\n",
        "print(df['engage in stress-relief activities'].unique())\n"
      ],
      "metadata": {
        "colab": {
          "base_uri": "https://localhost:8080/"
        },
        "id": "Z4EbGm4d7TMi",
        "outputId": "b89c1051-3226-48ad-b1cf-e628f16e8ffa"
      },
      "execution_count": null,
      "outputs": [
        {
          "output_type": "stream",
          "name": "stdout",
          "text": [
            "   diagnosed with depression  symptoms of depression frequency  \\\n",
            "0                          2                                 3   \n",
            "1                          1                                 3   \n",
            "2                          2                                 5   \n",
            "3                          2                                 2   \n",
            "4                          2                                 5   \n",
            "\n",
            "   professional help or counseling for depression  \\\n",
            "0                                               1   \n",
            "1                                               1   \n",
            "2                                               0   \n",
            "3                                               1   \n",
            "4                                               1   \n",
            "\n",
            "  feel stressed due to academic workload  engage in stress-relief activities  \\\n",
            "0                             Frequently                                   0   \n",
            "1                             Constantly                                   0   \n",
            "2                              Sometimes                                   0   \n",
            "3                             Frequently                                   1   \n",
            "4                             Constantly                                   0   \n",
            "\n",
            "   effectiveness of stress-management strategies  \\\n",
            "0                                              2   \n",
            "1                                              3   \n",
            "2                                              4   \n",
            "3                                              2   \n",
            "4                                              3   \n",
            "\n",
            "  feel pressure to excel academically  coping with academic pressure  \\\n",
            "0                                  No                              2   \n",
            "1                                 Yes                              2   \n",
            "2                                  No                              4   \n",
            "3                                 Yes                              3   \n",
            "4                                 Yes                              5   \n",
            "\n",
            "  academic counseling or support engaging in self-harming behaviors  ...  \\\n",
            "0                             No                                Yes  ...   \n",
            "1                            Yes                                 No  ...   \n",
            "2                             No                                Yes  ...   \n",
            "3                             No                                 No  ...   \n",
            "4                             No                                Yes  ...   \n",
            "\n",
            "  contibution of lack of sleep on stress level  \\\n",
            "0                                            3   \n",
            "1                                            2   \n",
            "2                                            2   \n",
            "3                                            2   \n",
            "4                                            5   \n",
            "\n",
            "   engaging in activities or hobbies  \\\n",
            "0               Several times a week   \n",
            "1                       Occasionally   \n",
            "2                       Occasionally   \n",
            "3                       Occasionally   \n",
            "4                             Rarely   \n",
            "\n",
            "   primary method of coping with academic or personal stress  Age_18-21  \\\n",
            "0          Engaging in hobbies or leisure activities                  0   \n",
            "1                Meditation or mindfulness practices                  0   \n",
            "2          Engaging in hobbies or leisure activities                  0   \n",
            "3          Engaging in hobbies or leisure activities                  0   \n",
            "4                       Talking to friends or family                  0   \n",
            "\n",
            "   Age_22-25  Age_26-30  Age_Under 18 Gender_Female  Gender_Male  \\\n",
            "0          1          0             0             1            0   \n",
            "1          1          0             0             1            0   \n",
            "2          1          0             0             0            1   \n",
            "3          1          0             0             0            1   \n",
            "4          0          1             0             0            1   \n",
            "\n",
            "  Gender_Prefer not to say  \n",
            "0                        0  \n",
            "1                        0  \n",
            "2                        0  \n",
            "3                        0  \n",
            "4                        0  \n",
            "\n",
            "[5 rows x 35 columns]\n",
            "[0 1]\n"
          ]
        }
      ]
    },
    {
      "cell_type": "code",
      "source": [
        "df['feel pressure to excel academically'] = df['feel pressure to excel academically'].replace('yes', 'Yes')\n",
        "print(df['feel pressure to excel academically'].unique())"
      ],
      "metadata": {
        "colab": {
          "base_uri": "https://localhost:8080/"
        },
        "id": "0LK4I-K4mjzT",
        "outputId": "65e67d99-c89f-4f1a-87c4-fffc77963ecd"
      },
      "execution_count": null,
      "outputs": [
        {
          "output_type": "stream",
          "name": "stdout",
          "text": [
            "['No' 'Yes']\n"
          ]
        }
      ]
    },
    {
      "cell_type": "code",
      "source": [
        "df['feel pressure to excel academically'] = df['feel pressure to excel academically'].map({'No': 0, 'Yes': 1})\n",
        "print(df.head())\n"
      ],
      "metadata": {
        "colab": {
          "base_uri": "https://localhost:8080/"
        },
        "id": "tRpnvCRdm4iX",
        "outputId": "19f039c4-a38b-44a8-dc1b-167ed2a75551"
      },
      "execution_count": null,
      "outputs": [
        {
          "output_type": "stream",
          "name": "stdout",
          "text": [
            "   diagnosed with depression  symptoms of depression frequency  \\\n",
            "0                          2                                 3   \n",
            "1                          1                                 3   \n",
            "2                          2                                 5   \n",
            "3                          2                                 2   \n",
            "4                          2                                 5   \n",
            "\n",
            "   professional help or counseling for depression  \\\n",
            "0                                               1   \n",
            "1                                               1   \n",
            "2                                               0   \n",
            "3                                               1   \n",
            "4                                               1   \n",
            "\n",
            "  feel stressed due to academic workload  engage in stress-relief activities  \\\n",
            "0                             Frequently                                   0   \n",
            "1                             Constantly                                   0   \n",
            "2                              Sometimes                                   0   \n",
            "3                             Frequently                                   1   \n",
            "4                             Constantly                                   0   \n",
            "\n",
            "   effectiveness of stress-management strategies  \\\n",
            "0                                              2   \n",
            "1                                              3   \n",
            "2                                              4   \n",
            "3                                              2   \n",
            "4                                              3   \n",
            "\n",
            "   feel pressure to excel academically  coping with academic pressure  \\\n",
            "0                                    0                              2   \n",
            "1                                    1                              2   \n",
            "2                                    0                              4   \n",
            "3                                    1                              3   \n",
            "4                                    1                              5   \n",
            "\n",
            "  academic counseling or support engaging in self-harming behaviors  ...  \\\n",
            "0                             No                                Yes  ...   \n",
            "1                            Yes                                 No  ...   \n",
            "2                             No                                Yes  ...   \n",
            "3                             No                                 No  ...   \n",
            "4                             No                                Yes  ...   \n",
            "\n",
            "  contibution of lack of sleep on stress level  \\\n",
            "0                                            3   \n",
            "1                                            2   \n",
            "2                                            2   \n",
            "3                                            2   \n",
            "4                                            5   \n",
            "\n",
            "   engaging in activities or hobbies  \\\n",
            "0               Several times a week   \n",
            "1                       Occasionally   \n",
            "2                       Occasionally   \n",
            "3                       Occasionally   \n",
            "4                             Rarely   \n",
            "\n",
            "   primary method of coping with academic or personal stress  Age_18-21  \\\n",
            "0          Engaging in hobbies or leisure activities                  0   \n",
            "1                Meditation or mindfulness practices                  0   \n",
            "2          Engaging in hobbies or leisure activities                  0   \n",
            "3          Engaging in hobbies or leisure activities                  0   \n",
            "4                       Talking to friends or family                  0   \n",
            "\n",
            "   Age_22-25  Age_26-30  Age_Under 18 Gender_Female  Gender_Male  \\\n",
            "0          1          0             0             1            0   \n",
            "1          1          0             0             1            0   \n",
            "2          1          0             0             0            1   \n",
            "3          1          0             0             0            1   \n",
            "4          0          1             0             0            1   \n",
            "\n",
            "  Gender_Prefer not to say  \n",
            "0                        0  \n",
            "1                        0  \n",
            "2                        0  \n",
            "3                        0  \n",
            "4                        0  \n",
            "\n",
            "[5 rows x 35 columns]\n"
          ]
        }
      ]
    },
    {
      "cell_type": "code",
      "source": [
        "df['academic counseling or support'] = df['academic counseling or support'].replace({'no': 'No', 'yes': 'Yes'})\n",
        "print(df['academic counseling or support'].unique())"
      ],
      "metadata": {
        "colab": {
          "base_uri": "https://localhost:8080/"
        },
        "id": "LdLtfU0ynibs",
        "outputId": "df88a63c-0998-4831-87a4-2d0d449baff4"
      },
      "execution_count": null,
      "outputs": [
        {
          "output_type": "stream",
          "name": "stdout",
          "text": [
            "['No' 'Yes']\n"
          ]
        }
      ]
    },
    {
      "cell_type": "code",
      "source": [
        "df['academic counseling or support'] = df['academic counseling or support'].map({'No': 0, 'Yes': 1})\n",
        "print(df.head())"
      ],
      "metadata": {
        "colab": {
          "base_uri": "https://localhost:8080/"
        },
        "id": "Krij2ehmpwpS",
        "outputId": "8b1a2555-bdab-45e1-8683-ba9edae8c96f"
      },
      "execution_count": null,
      "outputs": [
        {
          "output_type": "stream",
          "name": "stdout",
          "text": [
            "   diagnosed with depression  symptoms of depression frequency  \\\n",
            "0                          2                                 3   \n",
            "1                          1                                 3   \n",
            "2                          2                                 5   \n",
            "3                          2                                 2   \n",
            "4                          2                                 5   \n",
            "\n",
            "   professional help or counseling for depression  \\\n",
            "0                                               1   \n",
            "1                                               1   \n",
            "2                                               0   \n",
            "3                                               1   \n",
            "4                                               1   \n",
            "\n",
            "  feel stressed due to academic workload  engage in stress-relief activities  \\\n",
            "0                             Frequently                                   0   \n",
            "1                             Constantly                                   0   \n",
            "2                              Sometimes                                   0   \n",
            "3                             Frequently                                   1   \n",
            "4                             Constantly                                   0   \n",
            "\n",
            "   effectiveness of stress-management strategies  \\\n",
            "0                                              2   \n",
            "1                                              3   \n",
            "2                                              4   \n",
            "3                                              2   \n",
            "4                                              3   \n",
            "\n",
            "   feel pressure to excel academically  coping with academic pressure  \\\n",
            "0                                    0                              2   \n",
            "1                                    1                              2   \n",
            "2                                    0                              4   \n",
            "3                                    1                              3   \n",
            "4                                    1                              5   \n",
            "\n",
            "   academic counseling or support engaging in self-harming behaviors  ...  \\\n",
            "0                               0                                Yes  ...   \n",
            "1                               1                                 No  ...   \n",
            "2                               0                                Yes  ...   \n",
            "3                               0                                 No  ...   \n",
            "4                               0                                Yes  ...   \n",
            "\n",
            "  contibution of lack of sleep on stress level  \\\n",
            "0                                            3   \n",
            "1                                            2   \n",
            "2                                            2   \n",
            "3                                            2   \n",
            "4                                            5   \n",
            "\n",
            "   engaging in activities or hobbies  \\\n",
            "0               Several times a week   \n",
            "1                       Occasionally   \n",
            "2                       Occasionally   \n",
            "3                       Occasionally   \n",
            "4                             Rarely   \n",
            "\n",
            "   primary method of coping with academic or personal stress  Age_18-21  \\\n",
            "0          Engaging in hobbies or leisure activities                  0   \n",
            "1                Meditation or mindfulness practices                  0   \n",
            "2          Engaging in hobbies or leisure activities                  0   \n",
            "3          Engaging in hobbies or leisure activities                  0   \n",
            "4                       Talking to friends or family                  0   \n",
            "\n",
            "   Age_22-25  Age_26-30  Age_Under 18 Gender_Female  Gender_Male  \\\n",
            "0          1          0             0             1            0   \n",
            "1          1          0             0             1            0   \n",
            "2          1          0             0             0            1   \n",
            "3          1          0             0             0            1   \n",
            "4          0          1             0             0            1   \n",
            "\n",
            "  Gender_Prefer not to say  \n",
            "0                        0  \n",
            "1                        0  \n",
            "2                        0  \n",
            "3                        0  \n",
            "4                        0  \n",
            "\n",
            "[5 rows x 35 columns]\n"
          ]
        }
      ]
    },
    {
      "cell_type": "code",
      "source": [
        "df['engaging in self-harming behaviors'] = df['engaging in self-harming behaviors'].map({'No': 0, 'Yes': 1})\n",
        "print(df.head())"
      ],
      "metadata": {
        "colab": {
          "base_uri": "https://localhost:8080/"
        },
        "id": "WlcUv-khqTi1",
        "outputId": "07403588-84c2-4a45-ebc5-dd1169b6ee18"
      },
      "execution_count": null,
      "outputs": [
        {
          "output_type": "stream",
          "name": "stdout",
          "text": [
            "   diagnosed with depression  symptoms of depression frequency  \\\n",
            "0                          2                                 3   \n",
            "1                          1                                 3   \n",
            "2                          2                                 5   \n",
            "3                          2                                 2   \n",
            "4                          2                                 5   \n",
            "\n",
            "   professional help or counseling for depression  \\\n",
            "0                                               1   \n",
            "1                                               1   \n",
            "2                                               0   \n",
            "3                                               1   \n",
            "4                                               1   \n",
            "\n",
            "  feel stressed due to academic workload  engage in stress-relief activities  \\\n",
            "0                             Frequently                                   0   \n",
            "1                             Constantly                                   0   \n",
            "2                              Sometimes                                   0   \n",
            "3                             Frequently                                   1   \n",
            "4                             Constantly                                   0   \n",
            "\n",
            "   effectiveness of stress-management strategies  \\\n",
            "0                                              2   \n",
            "1                                              3   \n",
            "2                                              4   \n",
            "3                                              2   \n",
            "4                                              3   \n",
            "\n",
            "   feel pressure to excel academically  coping with academic pressure  \\\n",
            "0                                    0                              2   \n",
            "1                                    1                              2   \n",
            "2                                    0                              4   \n",
            "3                                    1                              3   \n",
            "4                                    1                              5   \n",
            "\n",
            "   academic counseling or support  engaging in self-harming behaviors  ...  \\\n",
            "0                               0                                   1  ...   \n",
            "1                               1                                   0  ...   \n",
            "2                               0                                   1  ...   \n",
            "3                               0                                   0  ...   \n",
            "4                               0                                   1  ...   \n",
            "\n",
            "  contibution of lack of sleep on stress level  \\\n",
            "0                                            3   \n",
            "1                                            2   \n",
            "2                                            2   \n",
            "3                                            2   \n",
            "4                                            5   \n",
            "\n",
            "   engaging in activities or hobbies  \\\n",
            "0               Several times a week   \n",
            "1                       Occasionally   \n",
            "2                       Occasionally   \n",
            "3                       Occasionally   \n",
            "4                             Rarely   \n",
            "\n",
            "   primary method of coping with academic or personal stress  Age_18-21  \\\n",
            "0          Engaging in hobbies or leisure activities                  0   \n",
            "1                Meditation or mindfulness practices                  0   \n",
            "2          Engaging in hobbies or leisure activities                  0   \n",
            "3          Engaging in hobbies or leisure activities                  0   \n",
            "4                       Talking to friends or family                  0   \n",
            "\n",
            "   Age_22-25  Age_26-30  Age_Under 18 Gender_Female  Gender_Male  \\\n",
            "0          1          0             0             1            0   \n",
            "1          1          0             0             1            0   \n",
            "2          1          0             0             0            1   \n",
            "3          1          0             0             0            1   \n",
            "4          0          1             0             0            1   \n",
            "\n",
            "  Gender_Prefer not to say  \n",
            "0                        0  \n",
            "1                        0  \n",
            "2                        0  \n",
            "3                        0  \n",
            "4                        0  \n",
            "\n",
            "[5 rows x 35 columns]\n"
          ]
        }
      ]
    },
    {
      "cell_type": "code",
      "source": [
        "# Convert column values to lowercase and remove leading/trailing whitespaces\n",
        "df['professional help or counseling for self-harm'] = df['professional help or counseling for self-harm'].str.strip().str.lower()\n",
        "\n",
        "# Check unique values after stripping and lowercasing\n",
        "print(\"Unique values before mapping:\", df['professional help or counseling for self-harm'].unique())\n",
        "\n",
        "# Map 'yes' to 'Yes' and 'no' to 'No'\n",
        "df['professional help or counseling for self-harm'] = df['professional help or counseling for self-harm'].map({'yes': 'Yes', 'no': 'No'})\n",
        "\n",
        "# Check unique values after mapping\n",
        "print(\"Unique values after mapping:\", df['professional help or counseling for self-harm'].unique())\n",
        "\n",
        "# Count null values\n",
        "null_values_count = df['professional help or counseling for self-harm'].isnull().sum()\n",
        "print(\"Number of null values in the column:\", null_values_count)\n"
      ],
      "metadata": {
        "colab": {
          "base_uri": "https://localhost:8080/"
        },
        "id": "IUmdHmgisTyi",
        "outputId": "c240da25-33a5-4173-f19d-9c3454a64516"
      },
      "execution_count": null,
      "outputs": [
        {
          "output_type": "stream",
          "name": "stdout",
          "text": [
            "Unique values before mapping: ['no' 'yes']\n",
            "Unique values after mapping: ['No' 'Yes']\n",
            "Number of null values in the column: 0\n"
          ]
        }
      ]
    },
    {
      "cell_type": "code",
      "source": [
        "# Map 'Yes' to 1 and 'No' to 0\n",
        "df['professional help or counseling for self-harm'] = df['professional help or counseling for self-harm'].map({'Yes': 1, 'No': 0})\n",
        "\n",
        "# Check unique values after mapping\n",
        "print(\"Unique values after mapping:\", df['professional help or counseling for self-harm'].unique())\n"
      ],
      "metadata": {
        "colab": {
          "base_uri": "https://localhost:8080/"
        },
        "id": "zy9ZOiizw-AK",
        "outputId": "c839385b-c097-4245-85ba-ae856914d282"
      },
      "execution_count": null,
      "outputs": [
        {
          "output_type": "stream",
          "name": "stdout",
          "text": [
            "Unique values after mapping: [0 1]\n"
          ]
        }
      ]
    },
    {
      "cell_type": "code",
      "source": [
        "# Specify the column for which you want to check unique values\n",
        "column_name = 'feel stressed due to academic workload'  # Replace 'your_column_name' with the name of your column\n",
        "\n",
        "# Get all unique values in the specified column\n",
        "unique_values = df[column_name].unique()\n",
        "\n",
        "# Print the unique values\n",
        "print(unique_values)\n"
      ],
      "metadata": {
        "id": "o0-2ii4D4qBm",
        "colab": {
          "base_uri": "https://localhost:8080/"
        },
        "outputId": "d24f38bc-ea6f-45ed-92a3-a20bed38783f"
      },
      "execution_count": null,
      "outputs": [
        {
          "output_type": "stream",
          "name": "stdout",
          "text": [
            "['Frequently' 'Constantly' 'Sometimes' 'Occasionally' 'Rarely']\n"
          ]
        }
      ]
    },
    {
      "cell_type": "code",
      "source": [
        "# Define a dictionary to map categories to numerical values based on their frequency or intensity\n",
        "stress_mapping = {'Rarely': 0, 'Occasionally': 1, 'Sometimes': 2, 'Frequently': 3, 'Constantly': 4}\n",
        "\n",
        "# Apply mapping to the 'feel stressed due to academic workload' column\n",
        "df['feel stressed due to academic workload'] = df['feel stressed due to academic workload'].map(stress_mapping)\n",
        "\n",
        "# Display the preprocessed dataset\n",
        "print(df.head())"
      ],
      "metadata": {
        "id": "xHBhz39G64Ti",
        "colab": {
          "base_uri": "https://localhost:8080/"
        },
        "outputId": "30a0b070-0804-4a6a-ee46-df8e04929918"
      },
      "execution_count": null,
      "outputs": [
        {
          "output_type": "stream",
          "name": "stdout",
          "text": [
            "   diagnosed with depression  symptoms of depression frequency  \\\n",
            "0                          2                                 3   \n",
            "1                          1                                 3   \n",
            "2                          2                                 5   \n",
            "3                          2                                 2   \n",
            "4                          2                                 5   \n",
            "\n",
            "   professional help or counseling for depression  \\\n",
            "0                                               1   \n",
            "1                                               1   \n",
            "2                                               0   \n",
            "3                                               1   \n",
            "4                                               1   \n",
            "\n",
            "   feel stressed due to academic workload  engage in stress-relief activities  \\\n",
            "0                                       3                                   0   \n",
            "1                                       4                                   0   \n",
            "2                                       2                                   0   \n",
            "3                                       3                                   1   \n",
            "4                                       4                                   0   \n",
            "\n",
            "   effectiveness of stress-management strategies  \\\n",
            "0                                              2   \n",
            "1                                              3   \n",
            "2                                              4   \n",
            "3                                              2   \n",
            "4                                              3   \n",
            "\n",
            "   feel pressure to excel academically  coping with academic pressure  \\\n",
            "0                                    0                              2   \n",
            "1                                    1                              2   \n",
            "2                                    0                              4   \n",
            "3                                    1                              3   \n",
            "4                                    1                              5   \n",
            "\n",
            "   academic counseling or support  engaging in self-harming behaviors  ...  \\\n",
            "0                               0                                   1  ...   \n",
            "1                               1                                   0  ...   \n",
            "2                               0                                   1  ...   \n",
            "3                               0                                   0  ...   \n",
            "4                               0                                   1  ...   \n",
            "\n",
            "   contibution of lack of sleep on stress level  \\\n",
            "0                                             3   \n",
            "1                                             2   \n",
            "2                                             2   \n",
            "3                                             2   \n",
            "4                                             5   \n",
            "\n",
            "   engaging in activities or hobbies  \\\n",
            "0               Several times a week   \n",
            "1                       Occasionally   \n",
            "2                       Occasionally   \n",
            "3                       Occasionally   \n",
            "4                             Rarely   \n",
            "\n",
            "   primary method of coping with academic or personal stress  Age_18-21  \\\n",
            "0          Engaging in hobbies or leisure activities                  0   \n",
            "1                Meditation or mindfulness practices                  0   \n",
            "2          Engaging in hobbies or leisure activities                  0   \n",
            "3          Engaging in hobbies or leisure activities                  0   \n",
            "4                       Talking to friends or family                  0   \n",
            "\n",
            "   Age_22-25  Age_26-30  Age_Under 18 Gender_Female  Gender_Male  \\\n",
            "0          1          0             0             1            0   \n",
            "1          1          0             0             1            0   \n",
            "2          1          0             0             0            1   \n",
            "3          1          0             0             0            1   \n",
            "4          0          1             0             0            1   \n",
            "\n",
            "  Gender_Prefer not to say  \n",
            "0                        0  \n",
            "1                        0  \n",
            "2                        0  \n",
            "3                        0  \n",
            "4                        0  \n",
            "\n",
            "[5 rows x 35 columns]\n"
          ]
        }
      ]
    },
    {
      "cell_type": "code",
      "source": [
        "# Remove leading/trailing whitespaces from the unique values in the column\n",
        "df['Supportive academic environment'] = df['Supportive academic environment'].str.strip()\n",
        "\n",
        "\n",
        "print(df['Supportive academic environment'].unique())\n"
      ],
      "metadata": {
        "colab": {
          "base_uri": "https://localhost:8080/"
        },
        "id": "m082_aGVHMo-",
        "outputId": "216fc9b4-2750-400d-ad88-3fc205259809"
      },
      "execution_count": null,
      "outputs": [
        {
          "output_type": "stream",
          "name": "stdout",
          "text": [
            "['Extremely Important' 'Important' 'Neutral' 'Not Important'\n",
            " 'Somewhat Important']\n"
          ]
        }
      ]
    },
    {
      "cell_type": "code",
      "source": [
        "# Remove leading/trailing whitespace and convert to lowercase\n",
        "df['Supportive academic environment'] = df['Supportive academic environment'].str.strip().str.lower()\n",
        "\n",
        "# Map categories to numerical values\n",
        "environment_mapping = {\n",
        "    'extremely important': 4,\n",
        "    'important': 3,\n",
        "    'neutral': 2,\n",
        "    'somewhat important': 1,\n",
        "    'not important': 0\n",
        "}\n",
        "\n",
        "df['Supportive academic environment'] = df['Supportive academic environment'].map(environment_mapping)\n",
        "\n",
        "# Display the preprocessed dataset\n",
        "print(df['Supportive academic environment'].unique())\n"
      ],
      "metadata": {
        "colab": {
          "base_uri": "https://localhost:8080/"
        },
        "id": "l5QgVe52KzfB",
        "outputId": "bfbb4bd8-7886-43df-96e6-bf3517c23b33"
      },
      "execution_count": null,
      "outputs": [
        {
          "output_type": "stream",
          "name": "stdout",
          "text": [
            "[4 3 2 0 1]\n"
          ]
        }
      ]
    },
    {
      "cell_type": "code",
      "source": [
        "# Remove leading/trailing whitespace and convert to lowercase\n",
        "df['Peer support groups'] = df['Peer support groups'].str.strip().str.lower()\n",
        "\n",
        "# Map categories to numerical values\n",
        "environment_mapping = {\n",
        "    'extremely important': 4,\n",
        "    'important': 3,\n",
        "    'neutral': 2,\n",
        "    'somewhat important': 1,\n",
        "    'not important': 0\n",
        "}\n",
        "\n",
        "df['Peer support groups'] = df['Peer support groups'].map(environment_mapping)\n",
        "print(df['Peer support groups'].unique())\n"
      ],
      "metadata": {
        "colab": {
          "base_uri": "https://localhost:8080/"
        },
        "id": "VD-KwMpqL4pt",
        "outputId": "fd32733e-98f3-43f6-eb12-c787f84ae3a3"
      },
      "execution_count": null,
      "outputs": [
        {
          "output_type": "stream",
          "name": "stdout",
          "text": [
            "[3 2 4 1 0]\n"
          ]
        }
      ]
    },
    {
      "cell_type": "code",
      "source": [
        "environment_mapping = {\n",
        "    'Extremely Important': 4,\n",
        "    'Important': 3,\n",
        "    'Neutral': 2,\n",
        "    'Somewhat Important': 1,\n",
        "    'Not Important': 0\n",
        "}\n",
        "\n",
        "df['Mental health awareness campaigns'] = df['Mental health awareness campaigns'].map(environment_mapping)\n",
        "print(df['Mental health awareness campaigns'].unique())\n"
      ],
      "metadata": {
        "colab": {
          "base_uri": "https://localhost:8080/"
        },
        "id": "6sCe_tgzOtdP",
        "outputId": "1aef88f5-b458-4f38-99d6-42b280c83993"
      },
      "execution_count": null,
      "outputs": [
        {
          "output_type": "stream",
          "name": "stdout",
          "text": [
            "[4 3 2 1 0]\n"
          ]
        }
      ]
    },
    {
      "cell_type": "code",
      "source": [
        "df['engaging in activities or hobbies'] = df['engaging in activities or hobbies'].replace('Daily ', 'Daily')\n",
        "\n",
        "print(df['engaging in activities or hobbies'].unique())\n"
      ],
      "metadata": {
        "colab": {
          "base_uri": "https://localhost:8080/"
        },
        "id": "bZD72hxrPdkr",
        "outputId": "0b22977a-1370-4ee2-8649-8e2547c83b68"
      },
      "execution_count": null,
      "outputs": [
        {
          "output_type": "stream",
          "name": "stdout",
          "text": [
            "['Several times a week' 'Occasionally' 'Rarely' 'Never' 'Daily']\n"
          ]
        }
      ]
    },
    {
      "cell_type": "code",
      "source": [
        "# Define a mapping of ordinal values\n",
        "ordinal_mapping = {\n",
        "    'Never': 0,\n",
        "    'Rarely': 1,\n",
        "    'Occasionally': 2,\n",
        "    'Several times a week': 3,\n",
        "    'Daily': 4\n",
        "}\n",
        "\n",
        "# Map ordinal values to the column\n",
        "df['engaging in activities or hobbies'] = df['engaging in activities or hobbies'].map(ordinal_mapping)\n",
        "print(df['engaging in activities or hobbies'].unique())\n"
      ],
      "metadata": {
        "colab": {
          "base_uri": "https://localhost:8080/"
        },
        "id": "vUp2RnzsQjEP",
        "outputId": "429044be-5204-4e1d-93df-6aebbca8f633"
      },
      "execution_count": null,
      "outputs": [
        {
          "output_type": "stream",
          "name": "stdout",
          "text": [
            "[3 2 1 0 4]\n"
          ]
        }
      ]
    },
    {
      "cell_type": "code",
      "source": [
        "df['accessible counseling services'] = df['accessible counseling services'].str.strip().str.lower()\n",
        "\n",
        "print(df['accessible counseling services'].unique())\n"
      ],
      "metadata": {
        "colab": {
          "base_uri": "https://localhost:8080/"
        },
        "id": "y7pBPFvYYTZ5",
        "outputId": "f4d343fb-a221-41f3-a141-7f92ad5ab19f"
      },
      "execution_count": null,
      "outputs": [
        {
          "output_type": "stream",
          "name": "stdout",
          "text": [
            "['important' 'not important' 'extremely important' 'neutral'\n",
            " 'somewhat important']\n"
          ]
        }
      ]
    },
    {
      "cell_type": "code",
      "source": [
        "environment_mapping = {\n",
        "    'extremely important': 4,\n",
        "    'important': 3,\n",
        "    'neutral': 2,\n",
        "    'somewhat important': 1,\n",
        "    'not important': 0\n",
        "}\n",
        "\n",
        "df['accessible counseling services'] = df['accessible counseling services'].map(environment_mapping)\n",
        "print(df['accessible counseling services'].unique())\n"
      ],
      "metadata": {
        "colab": {
          "base_uri": "https://localhost:8080/"
        },
        "id": "0TpaDDj4YmQ8",
        "outputId": "6233f1bf-dd9b-4d06-ab85-992956390d3c"
      },
      "execution_count": null,
      "outputs": [
        {
          "output_type": "stream",
          "name": "stdout",
          "text": [
            "[3 0 4 2 1]\n"
          ]
        }
      ]
    },
    {
      "cell_type": "code",
      "source": [
        "print(df.head(50))"
      ],
      "metadata": {
        "colab": {
          "base_uri": "https://localhost:8080/"
        },
        "id": "icOKdsSDQ7Ty",
        "outputId": "96d93e64-3903-49b8-cca7-1768211b265d"
      },
      "execution_count": null,
      "outputs": [
        {
          "output_type": "stream",
          "name": "stdout",
          "text": [
            "    diagnosed with depression  symptoms of depression frequency  \\\n",
            "0                           2                                 3   \n",
            "1                           1                                 3   \n",
            "2                           2                                 5   \n",
            "3                           2                                 2   \n",
            "4                           2                                 5   \n",
            "5                           0                                 3   \n",
            "6                           0                                 1   \n",
            "7                           2                                 5   \n",
            "8                           2                                 4   \n",
            "9                           0                                 1   \n",
            "10                          1                                 3   \n",
            "11                          0                                 3   \n",
            "12                          0                                 3   \n",
            "13                          1                                 3   \n",
            "14                          2                                 5   \n",
            "15                          2                                 5   \n",
            "16                          2                                 4   \n",
            "17                          1                                 2   \n",
            "18                          2                                 5   \n",
            "19                          0                                 4   \n",
            "20                          2                                 5   \n",
            "21                          0                                 2   \n",
            "22                          2                                 3   \n",
            "23                          2                                 4   \n",
            "24                          2                                 3   \n",
            "25                          2                                 3   \n",
            "26                          0                                 3   \n",
            "27                          0                                 3   \n",
            "28                          0                                 3   \n",
            "29                          1                                 3   \n",
            "30                          2                                 2   \n",
            "31                          2                                 3   \n",
            "32                          1                                 5   \n",
            "33                          0                                 2   \n",
            "34                          0                                 4   \n",
            "35                          2                                 5   \n",
            "36                          2                                 5   \n",
            "37                          1                                 2   \n",
            "38                          1                                 2   \n",
            "39                          0                                 5   \n",
            "40                          1                                 2   \n",
            "41                          2                                 3   \n",
            "42                          0                                 4   \n",
            "43                          0                                 4   \n",
            "44                          0                                 3   \n",
            "45                          1                                 2   \n",
            "46                          2                                 4   \n",
            "47                          2                                 5   \n",
            "48                          2                                 3   \n",
            "49                          2                                 1   \n",
            "\n",
            "    professional help or counseling for depression  \\\n",
            "0                                                1   \n",
            "1                                                1   \n",
            "2                                                0   \n",
            "3                                                1   \n",
            "4                                                1   \n",
            "5                                                1   \n",
            "6                                                0   \n",
            "7                                                1   \n",
            "8                                                0   \n",
            "9                                                0   \n",
            "10                                               0   \n",
            "11                                               0   \n",
            "12                                               0   \n",
            "13                                               0   \n",
            "14                                               1   \n",
            "15                                               0   \n",
            "16                                               0   \n",
            "17                                               0   \n",
            "18                                               1   \n",
            "19                                               0   \n",
            "20                                               0   \n",
            "21                                               0   \n",
            "22                                               1   \n",
            "23                                               1   \n",
            "24                                               0   \n",
            "25                                               0   \n",
            "26                                               0   \n",
            "27                                               1   \n",
            "28                                               0   \n",
            "29                                               1   \n",
            "30                                               0   \n",
            "31                                               1   \n",
            "32                                               0   \n",
            "33                                               0   \n",
            "34                                               0   \n",
            "35                                               0   \n",
            "36                                               1   \n",
            "37                                               0   \n",
            "38                                               0   \n",
            "39                                               0   \n",
            "40                                               0   \n",
            "41                                               0   \n",
            "42                                               0   \n",
            "43                                               0   \n",
            "44                                               0   \n",
            "45                                               0   \n",
            "46                                               0   \n",
            "47                                               0   \n",
            "48                                               0   \n",
            "49                                               1   \n",
            "\n",
            "    feel stressed due to academic workload  \\\n",
            "0                                        3   \n",
            "1                                        4   \n",
            "2                                        2   \n",
            "3                                        3   \n",
            "4                                        4   \n",
            "5                                        3   \n",
            "6                                        2   \n",
            "7                                        3   \n",
            "8                                        3   \n",
            "9                                        2   \n",
            "10                                       2   \n",
            "11                                       2   \n",
            "12                                       2   \n",
            "13                                       2   \n",
            "14                                       3   \n",
            "15                                       3   \n",
            "16                                       2   \n",
            "17                                       3   \n",
            "18                                       2   \n",
            "19                                       3   \n",
            "20                                       3   \n",
            "21                                       3   \n",
            "22                                       2   \n",
            "23                                       3   \n",
            "24                                       1   \n",
            "25                                       3   \n",
            "26                                       3   \n",
            "27                                       2   \n",
            "28                                       3   \n",
            "29                                       2   \n",
            "30                                       2   \n",
            "31                                       2   \n",
            "32                                       4   \n",
            "33                                       2   \n",
            "34                                       4   \n",
            "35                                       3   \n",
            "36                                       3   \n",
            "37                                       2   \n",
            "38                                       2   \n",
            "39                                       3   \n",
            "40                                       2   \n",
            "41                                       2   \n",
            "42                                       3   \n",
            "43                                       1   \n",
            "44                                       3   \n",
            "45                                       2   \n",
            "46                                       3   \n",
            "47                                       4   \n",
            "48                                       2   \n",
            "49                                       3   \n",
            "\n",
            "    engage in stress-relief activities  \\\n",
            "0                                    0   \n",
            "1                                    0   \n",
            "2                                    0   \n",
            "3                                    1   \n",
            "4                                    0   \n",
            "5                                    1   \n",
            "6                                    0   \n",
            "7                                    0   \n",
            "8                                    0   \n",
            "9                                    1   \n",
            "10                                   1   \n",
            "11                                   0   \n",
            "12                                   1   \n",
            "13                                   1   \n",
            "14                                   1   \n",
            "15                                   0   \n",
            "16                                   1   \n",
            "17                                   0   \n",
            "18                                   1   \n",
            "19                                   1   \n",
            "20                                   0   \n",
            "21                                   1   \n",
            "22                                   1   \n",
            "23                                   0   \n",
            "24                                   1   \n",
            "25                                   1   \n",
            "26                                   0   \n",
            "27                                   1   \n",
            "28                                   0   \n",
            "29                                   0   \n",
            "30                                   1   \n",
            "31                                   0   \n",
            "32                                   0   \n",
            "33                                   1   \n",
            "34                                   1   \n",
            "35                                   1   \n",
            "36                                   1   \n",
            "37                                   0   \n",
            "38                                   0   \n",
            "39                                   0   \n",
            "40                                   0   \n",
            "41                                   1   \n",
            "42                                   1   \n",
            "43                                   1   \n",
            "44                                   0   \n",
            "45                                   0   \n",
            "46                                   0   \n",
            "47                                   0   \n",
            "48                                   0   \n",
            "49                                   1   \n",
            "\n",
            "    effectiveness of stress-management strategies  \\\n",
            "0                                               2   \n",
            "1                                               3   \n",
            "2                                               4   \n",
            "3                                               2   \n",
            "4                                               3   \n",
            "5                                               5   \n",
            "6                                               4   \n",
            "7                                               2   \n",
            "8                                               2   \n",
            "9                                               2   \n",
            "10                                              2   \n",
            "11                                              2   \n",
            "12                                              3   \n",
            "13                                              3   \n",
            "14                                              3   \n",
            "15                                              1   \n",
            "16                                              3   \n",
            "17                                              2   \n",
            "18                                              3   \n",
            "19                                              4   \n",
            "20                                              1   \n",
            "21                                              3   \n",
            "22                                              3   \n",
            "23                                              1   \n",
            "24                                              4   \n",
            "25                                              3   \n",
            "26                                              3   \n",
            "27                                              4   \n",
            "28                                              4   \n",
            "29                                              4   \n",
            "30                                              4   \n",
            "31                                              3   \n",
            "32                                              2   \n",
            "33                                              4   \n",
            "34                                              5   \n",
            "35                                              5   \n",
            "36                                              5   \n",
            "37                                              2   \n",
            "38                                              3   \n",
            "39                                              3   \n",
            "40                                              4   \n",
            "41                                              3   \n",
            "42                                              1   \n",
            "43                                              4   \n",
            "44                                              3   \n",
            "45                                              3   \n",
            "46                                              1   \n",
            "47                                              2   \n",
            "48                                              3   \n",
            "49                                              4   \n",
            "\n",
            "    feel pressure to excel academically  coping with academic pressure  \\\n",
            "0                                     0                              2   \n",
            "1                                     1                              2   \n",
            "2                                     0                              4   \n",
            "3                                     1                              3   \n",
            "4                                     1                              5   \n",
            "5                                     1                              3   \n",
            "6                                     1                              1   \n",
            "7                                     1                              3   \n",
            "8                                     0                              3   \n",
            "9                                     1                              2   \n",
            "10                                    1                              3   \n",
            "11                                    1                              2   \n",
            "12                                    1                              3   \n",
            "13                                    1                              3   \n",
            "14                                    1                              3   \n",
            "15                                    1                              4   \n",
            "16                                    1                              3   \n",
            "17                                    1                              3   \n",
            "18                                    1                              3   \n",
            "19                                    1                              4   \n",
            "20                                    1                              3   \n",
            "21                                    1                              2   \n",
            "22                                    1                              5   \n",
            "23                                    1                              2   \n",
            "24                                    1                              3   \n",
            "25                                    1                              2   \n",
            "26                                    1                              2   \n",
            "27                                    0                              4   \n",
            "28                                    1                              3   \n",
            "29                                    0                              3   \n",
            "30                                    1                              3   \n",
            "31                                    1                              3   \n",
            "32                                    1                              3   \n",
            "33                                    0                              3   \n",
            "34                                    0                              3   \n",
            "35                                    1                              5   \n",
            "36                                    1                              4   \n",
            "37                                    1                              3   \n",
            "38                                    1                              3   \n",
            "39                                    1                              3   \n",
            "40                                    0                              3   \n",
            "41                                    1                              3   \n",
            "42                                    1                              3   \n",
            "43                                    1                              2   \n",
            "44                                    1                              4   \n",
            "45                                    1                              4   \n",
            "46                                    0                              3   \n",
            "47                                    1                              1   \n",
            "48                                    1                              3   \n",
            "49                                    1                              2   \n",
            "\n",
            "    academic counseling or support  engaging in self-harming behaviors  ...  \\\n",
            "0                                0                                   1  ...   \n",
            "1                                1                                   0  ...   \n",
            "2                                0                                   1  ...   \n",
            "3                                0                                   0  ...   \n",
            "4                                0                                   1  ...   \n",
            "5                                1                                   0  ...   \n",
            "6                                0                                   0  ...   \n",
            "7                                0                                   0  ...   \n",
            "8                                0                                   0  ...   \n",
            "9                                0                                   0  ...   \n",
            "10                               0                                   0  ...   \n",
            "11                               0                                   0  ...   \n",
            "12                               0                                   1  ...   \n",
            "13                               0                                   0  ...   \n",
            "14                               0                                   1  ...   \n",
            "15                               0                                   1  ...   \n",
            "16                               0                                   1  ...   \n",
            "17                               0                                   0  ...   \n",
            "18                               1                                   1  ...   \n",
            "19                               0                                   1  ...   \n",
            "20                               0                                   0  ...   \n",
            "21                               0                                   0  ...   \n",
            "22                               0                                   0  ...   \n",
            "23                               0                                   0  ...   \n",
            "24                               1                                   0  ...   \n",
            "25                               0                                   1  ...   \n",
            "26                               0                                   0  ...   \n",
            "27                               1                                   1  ...   \n",
            "28                               1                                   0  ...   \n",
            "29                               1                                   1  ...   \n",
            "30                               0                                   0  ...   \n",
            "31                               1                                   1  ...   \n",
            "32                               0                                   1  ...   \n",
            "33                               0                                   0  ...   \n",
            "34                               0                                   0  ...   \n",
            "35                               1                                   1  ...   \n",
            "36                               1                                   1  ...   \n",
            "37                               0                                   0  ...   \n",
            "38                               0                                   0  ...   \n",
            "39                               0                                   0  ...   \n",
            "40                               0                                   0  ...   \n",
            "41                               0                                   0  ...   \n",
            "42                               0                                   0  ...   \n",
            "43                               0                                   0  ...   \n",
            "44                               1                                   0  ...   \n",
            "45                               0                                   0  ...   \n",
            "46                               0                                   1  ...   \n",
            "47                               0                                   1  ...   \n",
            "48                               0                                   0  ...   \n",
            "49                               1                                   0  ...   \n",
            "\n",
            "    contibution of lack of sleep on stress level  \\\n",
            "0                                              3   \n",
            "1                                              2   \n",
            "2                                              2   \n",
            "3                                              2   \n",
            "4                                              5   \n",
            "5                                              3   \n",
            "6                                              4   \n",
            "7                                              4   \n",
            "8                                              4   \n",
            "9                                              2   \n",
            "10                                             3   \n",
            "11                                             5   \n",
            "12                                             5   \n",
            "13                                             3   \n",
            "14                                             3   \n",
            "15                                             3   \n",
            "16                                             3   \n",
            "17                                             1   \n",
            "18                                             3   \n",
            "19                                             5   \n",
            "20                                             5   \n",
            "21                                             2   \n",
            "22                                             2   \n",
            "23                                             2   \n",
            "24                                             5   \n",
            "25                                             5   \n",
            "26                                             5   \n",
            "27                                             3   \n",
            "28                                             4   \n",
            "29                                             4   \n",
            "30                                             5   \n",
            "31                                             5   \n",
            "32                                             4   \n",
            "33                                             2   \n",
            "34                                             4   \n",
            "35                                             5   \n",
            "36                                             4   \n",
            "37                                             3   \n",
            "38                                             3   \n",
            "39                                             3   \n",
            "40                                             4   \n",
            "41                                             3   \n",
            "42                                             1   \n",
            "43                                             4   \n",
            "44                                             5   \n",
            "45                                             4   \n",
            "46                                             4   \n",
            "47                                             5   \n",
            "48                                             5   \n",
            "49                                             5   \n",
            "\n",
            "    engaging in activities or hobbies  \\\n",
            "0                                   3   \n",
            "1                                   2   \n",
            "2                                   2   \n",
            "3                                   2   \n",
            "4                                   1   \n",
            "5                                   3   \n",
            "6                                   1   \n",
            "7                                   1   \n",
            "8                                   1   \n",
            "9                                   2   \n",
            "10                                  2   \n",
            "11                                  1   \n",
            "12                                  2   \n",
            "13                                  2   \n",
            "14                                  2   \n",
            "15                                  2   \n",
            "16                                  2   \n",
            "17                                  1   \n",
            "18                                  1   \n",
            "19                                  3   \n",
            "20                                  1   \n",
            "21                                  2   \n",
            "22                                  2   \n",
            "23                                  1   \n",
            "24                                  2   \n",
            "25                                  3   \n",
            "26                                  2   \n",
            "27                                  0   \n",
            "28                                  3   \n",
            "29                                  1   \n",
            "30                                  3   \n",
            "31                                  2   \n",
            "32                                  0   \n",
            "33                                  3   \n",
            "34                                  2   \n",
            "35                                  4   \n",
            "36                                  3   \n",
            "37                                  2   \n",
            "38                                  1   \n",
            "39                                  1   \n",
            "40                                  1   \n",
            "41                                  3   \n",
            "42                                  1   \n",
            "43                                  3   \n",
            "44                                  1   \n",
            "45                                  0   \n",
            "46                                  2   \n",
            "47                                  1   \n",
            "48                                  1   \n",
            "49                                  3   \n",
            "\n",
            "    primary method of coping with academic or personal stress  Age_18-21  \\\n",
            "0           Engaging in hobbies or leisure activities                  0   \n",
            "1                 Meditation or mindfulness practices                  0   \n",
            "2           Engaging in hobbies or leisure activities                  0   \n",
            "3           Engaging in hobbies or leisure activities                  0   \n",
            "4                        Talking to friends or family                  0   \n",
            "5                        Talking to friends or family                  0   \n",
            "6                 Meditation or mindfulness practices                  0   \n",
            "7             Seeking professional help or counseling                  0   \n",
            "8           Engaging in hobbies or leisure activities                  0   \n",
            "9                        Talking to friends or family                  0   \n",
            "10                       Talking to friends or family                  0   \n",
            "11          Engaging in hobbies or leisure activities                  0   \n",
            "12          Engaging in hobbies or leisure activities                  0   \n",
            "13                       Talking to friends or family                  0   \n",
            "14                       Talking to friends or family                  0   \n",
            "15                       Talking to friends or family                  0   \n",
            "16          Engaging in hobbies or leisure activities                  0   \n",
            "17                       Talking to friends or family                  0   \n",
            "18                               Online support group                  1   \n",
            "19                Meditation or mindfulness practices                  0   \n",
            "20                       Talking to friends or family                  0   \n",
            "21          Engaging in hobbies or leisure activities                  0   \n",
            "22          Engaging in hobbies or leisure activities                  0   \n",
            "23          Engaging in hobbies or leisure activities                  0   \n",
            "24   None of these actually help. Pain in inevitable.                  0   \n",
            "25          Engaging in hobbies or leisure activities                  0   \n",
            "26          Engaging in hobbies or leisure activities                  0   \n",
            "27          Engaging in hobbies or leisure activities                  0   \n",
            "28                       Talking to friends or family                  0   \n",
            "29            Seeking professional help or counseling                  0   \n",
            "30                       Talking to friends or family                  0   \n",
            "31                       Talking to friends or family                  0   \n",
            "32                    Sleeping & ignoring the problem                  0   \n",
            "33                       Talking to friends or family                  0   \n",
            "34          Engaging in hobbies or leisure activities                  0   \n",
            "35                       Talking to friends or family                  0   \n",
            "36                       Talking to friends or family                  0   \n",
            "37          Engaging in hobbies or leisure activities                  0   \n",
            "38                       Talking to friends or family                  0   \n",
            "39          Engaging in hobbies or leisure activities                  0   \n",
            "40          Engaging in hobbies or leisure activities                  0   \n",
            "41                Meditation or mindfulness practices                  0   \n",
            "42          Engaging in hobbies or leisure activities                  0   \n",
            "43                Meditation or mindfulness practices                  0   \n",
            "44          Engaging in hobbies or leisure activities                  0   \n",
            "45                       Talking to friends or family                  0   \n",
            "46                       Talking to friends or family                  0   \n",
            "47          Engaging in hobbies or leisure activities                  0   \n",
            "48                       Talking to friends or family                  0   \n",
            "49          Engaging in hobbies or leisure activities                  0   \n",
            "\n",
            "    Age_22-25  Age_26-30  Age_Under 18 Gender_Female  Gender_Male  \\\n",
            "0           1          0             0             1            0   \n",
            "1           1          0             0             1            0   \n",
            "2           1          0             0             0            1   \n",
            "3           1          0             0             0            1   \n",
            "4           0          1             0             0            1   \n",
            "5           0          1             0             0            1   \n",
            "6           1          0             0             1            0   \n",
            "7           0          1             0             1            0   \n",
            "8           0          1             0             0            1   \n",
            "9           1          0             0             0            1   \n",
            "10          0          1             0             0            1   \n",
            "11          1          0             0             0            1   \n",
            "12          1          0             0             0            1   \n",
            "13          0          1             0             0            1   \n",
            "14          1          0             0             1            0   \n",
            "15          1          0             0             1            0   \n",
            "16          1          0             0             1            0   \n",
            "17          1          0             0             1            0   \n",
            "18          0          0             0             1            0   \n",
            "19          1          0             0             1            0   \n",
            "20          1          0             0             0            1   \n",
            "21          1          0             0             1            0   \n",
            "22          1          0             0             1            0   \n",
            "23          1          0             0             1            0   \n",
            "24          0          1             0             0            1   \n",
            "25          1          0             0             1            0   \n",
            "26          0          1             0             1            0   \n",
            "27          1          0             0             1            0   \n",
            "28          1          0             0             0            1   \n",
            "29          1          0             0             0            1   \n",
            "30          1          0             0             1            0   \n",
            "31          1          0             0             1            0   \n",
            "32          1          0             0             1            0   \n",
            "33          1          0             0             0            1   \n",
            "34          1          0             0             0            1   \n",
            "35          0          1             0             0            1   \n",
            "36          1          0             0             0            1   \n",
            "37          1          0             0             0            1   \n",
            "38          1          0             0             0            1   \n",
            "39          1          0             0             0            1   \n",
            "40          1          0             0             1            0   \n",
            "41          1          0             0             0            1   \n",
            "42          1          0             0             0            1   \n",
            "43          1          0             0             1            0   \n",
            "44          1          0             0             0            1   \n",
            "45          1          0             0             0            1   \n",
            "46          1          0             0             0            1   \n",
            "47          1          0             0             0            1   \n",
            "48          0          1             0             0            1   \n",
            "49          1          0             0             0            1   \n",
            "\n",
            "    Gender_Prefer not to say  \n",
            "0                          0  \n",
            "1                          0  \n",
            "2                          0  \n",
            "3                          0  \n",
            "4                          0  \n",
            "5                          0  \n",
            "6                          0  \n",
            "7                          0  \n",
            "8                          0  \n",
            "9                          0  \n",
            "10                         0  \n",
            "11                         0  \n",
            "12                         0  \n",
            "13                         0  \n",
            "14                         0  \n",
            "15                         0  \n",
            "16                         0  \n",
            "17                         0  \n",
            "18                         0  \n",
            "19                         0  \n",
            "20                         0  \n",
            "21                         0  \n",
            "22                         0  \n",
            "23                         0  \n",
            "24                         0  \n",
            "25                         0  \n",
            "26                         0  \n",
            "27                         0  \n",
            "28                         0  \n",
            "29                         0  \n",
            "30                         0  \n",
            "31                         0  \n",
            "32                         0  \n",
            "33                         0  \n",
            "34                         0  \n",
            "35                         0  \n",
            "36                         0  \n",
            "37                         0  \n",
            "38                         0  \n",
            "39                         0  \n",
            "40                         0  \n",
            "41                         0  \n",
            "42                         0  \n",
            "43                         0  \n",
            "44                         0  \n",
            "45                         0  \n",
            "46                         0  \n",
            "47                         0  \n",
            "48                         0  \n",
            "49                         0  \n",
            "\n",
            "[50 rows x 35 columns]\n"
          ]
        }
      ]
    },
    {
      "cell_type": "code",
      "source": [
        "# Define the file path for the CSV file\n",
        "csv_file_path = '/content/post_preprocessed_data.csv'  # Change the path as needed\n",
        "\n",
        "# Export the DataFrame to a CSV file\n",
        "df.to_csv(csv_file_path, index=False)  # Set index=False to exclude row numbers from the CSV\n",
        "\n",
        "# Optionally, display a message indicating that the CSV file has been saved\n",
        "print(\"CSV file saved successfully at:\", csv_file_path)\n"
      ],
      "metadata": {
        "colab": {
          "base_uri": "https://localhost:8080/"
        },
        "id": "qaY2EZN5Wtqr",
        "outputId": "45517d02-f0ac-40ab-8afc-00b8bc6728ad"
      },
      "execution_count": null,
      "outputs": [
        {
          "output_type": "stream",
          "name": "stdout",
          "text": [
            "CSV file saved successfully at: /content/post_preprocessed_data.csv\n"
          ]
        }
      ]
    },
    {
      "cell_type": "code",
      "source": [
        "from google.colab import files\n",
        "\n",
        "files.download(csv_file_path)"
      ],
      "metadata": {
        "colab": {
          "base_uri": "https://localhost:8080/",
          "height": 17
        },
        "id": "xUoBb3VAXjeS",
        "outputId": "b309874b-cf3a-4f78-c97e-ef4fef74044c"
      },
      "execution_count": null,
      "outputs": [
        {
          "output_type": "display_data",
          "data": {
            "text/plain": [
              "<IPython.core.display.Javascript object>"
            ],
            "application/javascript": [
              "\n",
              "    async function download(id, filename, size) {\n",
              "      if (!google.colab.kernel.accessAllowed) {\n",
              "        return;\n",
              "      }\n",
              "      const div = document.createElement('div');\n",
              "      const label = document.createElement('label');\n",
              "      label.textContent = `Downloading \"${filename}\": `;\n",
              "      div.appendChild(label);\n",
              "      const progress = document.createElement('progress');\n",
              "      progress.max = size;\n",
              "      div.appendChild(progress);\n",
              "      document.body.appendChild(div);\n",
              "\n",
              "      const buffers = [];\n",
              "      let downloaded = 0;\n",
              "\n",
              "      const channel = await google.colab.kernel.comms.open(id);\n",
              "      // Send a message to notify the kernel that we're ready.\n",
              "      channel.send({})\n",
              "\n",
              "      for await (const message of channel.messages) {\n",
              "        // Send a message to notify the kernel that we're ready.\n",
              "        channel.send({})\n",
              "        if (message.buffers) {\n",
              "          for (const buffer of message.buffers) {\n",
              "            buffers.push(buffer);\n",
              "            downloaded += buffer.byteLength;\n",
              "            progress.value = downloaded;\n",
              "          }\n",
              "        }\n",
              "      }\n",
              "      const blob = new Blob(buffers, {type: 'application/binary'});\n",
              "      const a = document.createElement('a');\n",
              "      a.href = window.URL.createObjectURL(blob);\n",
              "      a.download = filename;\n",
              "      div.appendChild(a);\n",
              "      a.click();\n",
              "      div.remove();\n",
              "    }\n",
              "  "
            ]
          },
          "metadata": {}
        },
        {
          "output_type": "display_data",
          "data": {
            "text/plain": [
              "<IPython.core.display.Javascript object>"
            ],
            "application/javascript": [
              "download(\"download_c119eae2-c9bb-47fb-bab6-d16eb24b466d\", \"post_preprocessed_data.csv\", 80761)"
            ]
          },
          "metadata": {}
        }
      ]
    },
    {
      "cell_type": "code",
      "source": [],
      "metadata": {
        "id": "_9q8iNulX66B"
      },
      "execution_count": null,
      "outputs": []
    }
  ]
}